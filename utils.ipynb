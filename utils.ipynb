{
 "cells": [
  {
   "cell_type": "code",
   "execution_count": 1,
   "metadata": {},
   "outputs": [
    {
     "name": "stderr",
     "output_type": "stream",
     "text": [
      "/var/folders/5b/z7m8dzcs5td_8q7jrcf_9spm0000gn/T/ipykernel_5265/1117093441.py:3: DtypeWarning: Columns (250,251,256,257,258,259,260,265,266,267,268,287,288,294,297,298,317,318,319,327,328,339,340,347,348,349,350,355,356,357,358,370,373,375,378,386,387,388,389,390,391,392,394,395) have mixed types. Specify dtype option on import or set low_memory=False.\n",
      "  data = pd.read_csv(\"three_data_merged.csv\")\n"
     ]
    }
   ],
   "source": [
    "import pandas as pd\n",
    "\n",
    "data = pd.read_csv(\"three_data_merged.csv\")"
   ]
  },
  {
   "cell_type": "code",
   "execution_count": 4,
   "metadata": {},
   "outputs": [
    {
     "data": {
      "text/plain": [
       "Index(['stname', 'name', 'fips', 'r1ttt0', 'r1ttt5', 'r1ttt10', 'r1ttt15',\n",
       "       'r1ttt20', 'r1ttt25', 'r1ttt30', 'r1ttt35', 'r1ttt40', 'r1ttt45',\n",
       "       'r1ttt50', 'r1ttt55', 'r1ttt60', 'r1ttt65', 'r1ttt70', 'r1ttt75',\n",
       "       'm1ttt0', 'm1ttt5', 'm1ttt10', 'm1ttt15', 'm1ttt20', 'm1ttt25',\n",
       "       'm1ttt30', 'm1ttt35', 'm1ttt40', 'm1ttt45', 'm1ttt50', 'm1ttt55',\n",
       "       'm1ttt60', 'm1ttt65', 'm1ttt70', 'm1ttt75', 'e1ttt0', 'e1ttt5',\n",
       "       'e1ttt10', 'e1ttt15', 'e1ttt20', 'e1ttt25', 'e1ttt30', 'e1ttt35',\n",
       "       'e1ttt40', 'e1ttt45', 'e1ttt50', 'e1ttt55', 'e1ttt60', 'e1ttt65',\n",
       "       'e1ttt70', 'e1ttt75', 'fips_county_x', 'mapped_match', 'Unnamed: 0',\n",
       "       'Sort [1]', 'State', 'FIPS', 'County [2]', 'County Seat(s) [3]',\n",
       "       'Population (2010)', 'Land Area km²', 'Land Area mi²', 'Water Area km²',\n",
       "       'Water Area mi²', 'Total Area km²', 'Total Area mi²', 'Latitude',\n",
       "       'Longitude', 'fips_county_y'],\n",
       "      dtype='object')"
      ]
     },
     "execution_count": 4,
     "metadata": {},
     "output_type": "execute_result"
    }
   ],
   "source": [
    "data.columns[1999:]"
   ]
  }
 ],
 "metadata": {
  "kernelspec": {
   "display_name": "Python 3",
   "language": "python",
   "name": "python3"
  },
  "language_info": {
   "codemirror_mode": {
    "name": "ipython",
    "version": 3
   },
   "file_extension": ".py",
   "mimetype": "text/x-python",
   "name": "python",
   "nbconvert_exporter": "python",
   "pygments_lexer": "ipython3",
   "version": "3.9.6"
  }
 },
 "nbformat": 4,
 "nbformat_minor": 2
}
