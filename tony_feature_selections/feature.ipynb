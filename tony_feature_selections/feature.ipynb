{
 "cells": [
  {
   "cell_type": "code",
   "execution_count": 1,
   "metadata": {},
   "outputs": [
    {
     "name": "stderr",
     "output_type": "stream",
     "text": [
      "/var/folders/26/l89mqgp17zj82yvlmd3z3r200000ks/T/ipykernel_26968/470659936.py:5: DtypeWarning: Columns (250,251,256,257,258,259,260,265,266,267,268,287,288,294,297,298,317,318,319,327,328,339,340,347,348,349,350,355,356,357,358,370,373,375,378,386,387,388,389,390,391,392,394,395) have mixed types. Specify dtype option on import or set low_memory=False.\n",
      "  data = pd.read_csv(file_path)\n"
     ]
    },
    {
     "name": "stdout",
     "output_type": "stream",
     "text": [
      "No violations found.\n"
     ]
    }
   ],
   "source": [
    "import pandas as pd\n",
    "\n",
    "# Load the CSV file\n",
    "file_path = 'uncleaned.csv'\n",
    "data = pd.read_csv(file_path)\n",
    "\n",
    "# Define your left-side and right-side names as a dictionary\n",
    "# Example: {'left_name': 'right_name'}\n",
    "name_pairs = {\n",
    "    'left_name1': 'right_name1',\n",
    "    'left_name2': 'right_name2',\n",
    "    # Add more pairs as needed\n",
    "}\n",
    "\n",
    "# Iterate through the name pairs and check for violations\n",
    "violations = []\n",
    "\n",
    "for left_name, right_name in name_pairs.items():\n",
    "    # Check if the right-side name exists in the dataset\n",
    "    right_side_rows = data[data.apply(lambda row: right_name in row.to_string(), axis=1)]\n",
    "    \n",
    "    if not right_side_rows.empty:\n",
    "        # Check if the corresponding left-side name is not in the same rows\n",
    "        for _, row in right_side_rows.iterrows():\n",
    "            if left_name not in row.to_string():\n",
    "                violations.append({\n",
    "                    'right_side_name': right_name,\n",
    "                    'row_index': row.name,\n",
    "                    'row_data': row.to_dict()\n",
    "                })\n",
    "\n",
    "# Display the results\n",
    "if violations:\n",
    "    print(\"Violations found:\")\n",
    "    for violation in violations:\n",
    "        print(f\"Right-side name: {violation['right_side_name']}\")\n",
    "        print(f\"Row index: {violation['row_index']}\")\n",
    "        print(f\"Row data: {violation['row_data']}\")\n",
    "else:\n",
    "    print(\"No violations found.\")\n"
   ]
  },
  {
   "cell_type": "code",
   "execution_count": 2,
   "metadata": {},
   "outputs": [
    {
     "name": "stderr",
     "output_type": "stream",
     "text": [
      "/var/folders/26/l89mqgp17zj82yvlmd3z3r200000ks/T/ipykernel_26968/3971258796.py:5: DtypeWarning: Columns (250,251,256,257,258,259,260,265,266,267,268,287,288,294,297,298,317,318,319,327,328,339,340,347,348,349,350,355,356,357,358,370,373,375,378,386,387,388,389,390,391,392,394,395) have mixed types. Specify dtype option on import or set low_memory=False.\n",
      "  data = pd.read_csv(file_path)\n"
     ]
    },
    {
     "name": "stdout",
     "output_type": "stream",
     "text": [
      "No right-side names were found in the CSV.\n"
     ]
    }
   ],
   "source": [
    "import pandas as pd\n",
    "\n",
    "# Load the CSV file\n",
    "file_path = 'uncleaned.csv'\n",
    "data = pd.read_csv(file_path)\n",
    "\n",
    "# Define your right-side names\n",
    "right_side_names = [\n",
    "    'right_name1',\n",
    "    'right_name2',\n",
    "    # Add more right-side names as needed\n",
    "]\n",
    "\n",
    "# Check which right-side names are found and their respective columns\n",
    "found_right_side = []\n",
    "\n",
    "for right_name in right_side_names:\n",
    "    for col in data.columns:\n",
    "        if data[col].astype(str).str.contains(right_name, na=False).any():\n",
    "            found_right_side.append((right_name, col))\n",
    "\n",
    "# Print the found right-side names and the column names\n",
    "if found_right_side:\n",
    "    print(\"Found right-side names and their columns:\")\n",
    "    for name, col in found_right_side:\n",
    "        print(f\"Right-side name: {name} found in column: {col}\")\n",
    "else:\n",
    "    print(\"No right-side names were found in the CSV.\")\n"
   ]
  },
  {
   "cell_type": "code",
   "execution_count": 3,
   "metadata": {},
   "outputs": [
    {
     "data": {
      "text/plain": [
       "0      NaN\n",
       "1      NaN\n",
       "2      NaN\n",
       "3      NaN\n",
       "4      NaN\n",
       "        ..\n",
       "3138   NaN\n",
       "3139   NaN\n",
       "3140   NaN\n",
       "3141   NaN\n",
       "3142   NaN\n",
       "Name: stname, Length: 3143, dtype: float64"
      ]
     },
     "execution_count": 3,
     "metadata": {},
     "output_type": "execute_result"
    }
   ],
   "source": [
    "data['stname']"
   ]
  },
  {
   "cell_type": "code",
   "execution_count": 5,
   "metadata": {},
   "outputs": [
    {
     "data": {
      "text/plain": [
       "0      NaN\n",
       "1      NaN\n",
       "2      NaN\n",
       "3      NaN\n",
       "4      NaN\n",
       "        ..\n",
       "3138   NaN\n",
       "3139   NaN\n",
       "3140   NaN\n",
       "3141   NaN\n",
       "3142   NaN\n",
       "Name: Net Migration Rate 2010s, total, ages 00-04, Length: 3143, dtype: float64"
      ]
     },
     "execution_count": 5,
     "metadata": {},
     "output_type": "execute_result"
    }
   ],
   "source": [
    "data['Net Migration Rate 2010s, total, ages 00-04']"
   ]
  },
  {
   "cell_type": "code",
   "execution_count": 7,
   "metadata": {},
   "outputs": [
    {
     "name": "stdout",
     "output_type": "stream",
     "text": [
      "Number of NaN values: 3143\n"
     ]
    }
   ],
   "source": [
    "nan_count = data['Net Migration Rate 2010s, total, ages 00-04'].isna().sum()\n",
    "print(f\"Number of NaN values: {nan_count}\")\n"
   ]
  },
  {
   "cell_type": "code",
   "execution_count": 10,
   "metadata": {},
   "outputs": [
    {
     "name": "stdout",
     "output_type": "stream",
     "text": [
      "Number of NaN values: 3143\n"
     ]
    }
   ],
   "source": [
    "\n",
    "nan_count = data['Net Migrants 2010s, total, ages 40-44'].isna().sum()\n",
    "print(f\"Number of NaN values: {nan_count}\")\n"
   ]
  },
  {
   "cell_type": "code",
   "execution_count": 13,
   "metadata": {},
   "outputs": [
    {
     "name": "stdout",
     "output_type": "stream",
     "text": [
      "Number of NaN values: 3143\n"
     ]
    }
   ],
   "source": [
    "nan_count = data['Latitude'].isna().sum()\n",
    "print(f\"Number of NaN values: {nan_count}\")"
   ]
  },
  {
   "cell_type": "code",
   "execution_count": 15,
   "metadata": {},
   "outputs": [
    {
     "name": "stdout",
     "output_type": "stream",
     "text": [
      "Number of NaN values: 3143\n"
     ]
    }
   ],
   "source": [
    "nan_count = data['Longitude'].isna().sum()\n",
    "print(f\"Number of NaN values: {nan_count}\")"
   ]
  },
  {
   "cell_type": "code",
   "execution_count": 16,
   "metadata": {},
   "outputs": [
    {
     "name": "stdout",
     "output_type": "stream",
     "text": [
      "Number of NaN values: 1285\n"
     ]
    }
   ],
   "source": [
    "nan_count = data['AA_Black_Percentage_Fee_for_Service_FFS_Medicare_Enrollees_Had_Annual_Flu_Vaccination_2017_CHR'].isna().sum()\n",
    "print(f\"Number of NaN values: {nan_count}\")"
   ]
  },
  {
   "cell_type": "code",
   "execution_count": null,
   "metadata": {},
   "outputs": [],
   "source": []
  }
 ],
 "metadata": {
  "kernelspec": {
   "display_name": "Python 3",
   "language": "python",
   "name": "python3"
  },
  "language_info": {
   "codemirror_mode": {
    "name": "ipython",
    "version": 3
   },
   "file_extension": ".py",
   "mimetype": "text/x-python",
   "name": "python",
   "nbconvert_exporter": "python",
   "pygments_lexer": "ipython3",
   "version": "3.10.0"
  }
 },
 "nbformat": 4,
 "nbformat_minor": 2
}
