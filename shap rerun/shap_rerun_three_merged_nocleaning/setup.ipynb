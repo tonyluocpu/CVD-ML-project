{
 "cells": [
  {
   "cell_type": "code",
   "execution_count": 2,
   "metadata": {},
   "outputs": [
    {
     "name": "stderr",
     "output_type": "stream",
     "text": [
      "/tmp/ipykernel_4621/4253741078.py:2: DtypeWarning: Columns (289,290,295,296,297,298,299,300,305,306,307,308,319,320,321,322,323,324,325,326,327,328,329,330,331,332,333,334,335,336,337,338,349,350,356,357,358,359,360,362,366,367,368,379,380,385,386,387,388,389,390,391,392,395,396,397,398,409,410,413,414,415,416,417,420,421,422,430,431,432,433,434,435,436,438,439,462,463,464,465,466,467,468,469,470,471,472,473,474,475,477,478,479,480,481,492,493,494,495,496,497,498,499,500,501,502,503,504,505,508,509,510,511,522,523,524,525,526,527,528,529,530,531,532,533,534,535,536,538,539,540,541,552,553,554,555,556,557,558,559,560,561,562,563,565,568,569,570,571,582,583,584,585,586,587,588,589,590,591,592,593,594,595,596,597,598,599,600,601,612,613,614,615,616,617,618,619,620,621,622,623) have mixed types. Specify dtype option on import or set low_memory=False.\n",
      "  data = pd.read_csv(\"merge_data.csv\")\n"
     ]
    }
   ],
   "source": [
    "import pandas as pd\n",
    "data = pd.read_csv(\"merge_data.csv\")"
   ]
  },
  {
   "cell_type": "code",
   "execution_count": 3,
   "metadata": {},
   "outputs": [
    {
     "data": {
      "text/plain": [
       "['Total_Population_CVD_Death_Rate_Per_100,000_Residents_CDC_2016_18',\n",
       " 'Total_Population_CVD_Death_Rate_Per_100,000_Residents_CDC_2018_20',\n",
       " 'Total_Population_CVD_Death_Rate_Per_100,000_Residents_CDC_2019_21',\n",
       " 'Female_Population_CVD_Death_Rate_Per_100,000_Residents_CDC_2016_18',\n",
       " 'Female_Population_CVD_Death_Rate_Per_100,000_Residents_CDC_2018_20',\n",
       " 'Female_Population_CVD_Death_Rate_Per_100,000_Residents_CDC_2019_21',\n",
       " 'Male_Population_CVD_Death_Rate_Per_100,000_Residents_CDC_2016_18',\n",
       " 'Male_Population_CVD_Death_Rate_Per_100,000_Residents_CDC_2018_20',\n",
       " 'Male_Population_CVD_Death_Rate_Per_100,000_Residents_CDC_2019_21',\n",
       " 'Black_AA_Single_Race_Population_CVD_Death_Rate_Per_100,000_Residents_CDC_2016_18',\n",
       " 'Black_AA_Single_Race_Male_CVD_Death_Rate_Per_100,000_Residents_CDC_2016_18',\n",
       " 'Black_AA_Single_Race_Female_CVD_Death_Rate_Per_100,000_Residents_CDC_2016_18',\n",
       " 'AIAN_Single_Race_Population_CVD_Death_Rate_Per_100,000_Residents_CDC_2016_18',\n",
       " 'AIAN_Single_Race_Male_CVD_Death_Rate_Per_100,000_Residents_CDC_2016_18',\n",
       " 'AIAN_Single_Race_Female_CVD_Death_Rate_Per_100,000_Residents_CDC_2016_18',\n",
       " 'API_Single_Race_Population_CVD_Death_Rate_Per_100,000_Residents_CDC_2016_18',\n",
       " 'API_Single_Race_Male_CVD_Death_Rate_Per_100,000_Residents_CDC_2016_18',\n",
       " 'API_Single_Race_Female_CVD_Death_Rate_Per_100,000_Residents_CDC_2016_18',\n",
       " 'Black_AA_Single_Race_Population_CVD_Death_Rate_Per_100,000_Residents_CDC_2018_20',\n",
       " 'Black_AA_Single_Race_Male_CVD_Death_Rate_Per_100,000_Residents_CDC_2018_20',\n",
       " 'Black_AA_Single_Race_Female_CVD_Death_Rate_Per_100,000_Residents_CDC_2018_20',\n",
       " 'AIAN_Single_Race_Population_CVD_Death_Rate_Per_100,000_Residents_CDC_2018_20',\n",
       " 'AIAN_Single_Race_Male_CVD_Death_Rate_Per_100,000_Residents_CDC_2018_20',\n",
       " 'AIAN_Single_Race_Female_CVD_Death_Rate_Per_100,000_Residents_CDC_2018_20',\n",
       " 'API_Single_Race_Population_CVD_Death_Rate_Per_100,000_Residents_CDC_2018_20',\n",
       " 'API_Single_Race_Male_CVD_Death_Rate_Per_100,000_Residents_CDC_2018_20',\n",
       " 'API_Single_Race_Female_CVD_Death_Rate_Per_100,000_Residents_CDC_2018_20',\n",
       " 'Black_AA_Single_Race_Population_CVD_Death_Rate_Per_100,000_Residents_CDC_2019_21',\n",
       " 'Black_AA_Single_Race_Male_CVD_Death_Rate_Per_100,000_Residents_CDC_2019_21',\n",
       " 'Black_AA_Single_Race_Female_CVD_Death_Rate_Per_100,000_Residents_CDC_2019_21',\n",
       " 'AIAN_Single_Race_Population_CVD_Death_Rate_Per_100,000_Residents_CDC_2019_21',\n",
       " 'AIAN_Single_Race_Female_CVD_Death_Rate_Per_100,000_Residents_CDC_2019_21',\n",
       " 'AIAN_Single_Race_Male_CVD_Death_Rate_Per_100,000_Residents_CDC_2019_21',\n",
       " 'Asian_Single_Race_Population_CVD_Death_Rate_Per_100,000_Residents_CDC_2019_21',\n",
       " 'Asian_Single_Race_Female_CVD_Death_Rate_Per_100,000_Residents_CDC_2019_21',\n",
       " 'Asian_Single_Race_Male_CVD_Death_Rate_Per_100,000_Residents_CDC_2019_21',\n",
       " 'NHPI_Single_Race_Population_CVD_Death_Rate_Per_100,000_Residents_CDC_2019_21',\n",
       " 'NHPI_Single_Race_Female_CVD_Death_Rate_Per_100,000_Residents_CDC_2019_21',\n",
       " 'NHPI_Single_Race_Male_CVD_Death_Rate_Per_100,000_Residents_CDC_2019_21',\n",
       " 'AIAN_Single_Race_Female_Percent_of_CVD_In_Total_Deaths_CDC2018_22_x',\n",
       " 'AIAN_Single_Race_Male_Percent_of_CVD_In_Total_Deaths_CDC2018_22_x',\n",
       " 'Black_AA_Single_Race_Female_Percent_of_CVD_In_Total_Deaths_CDC2018_22_x',\n",
       " 'Black_AA_Single_Race_Male_Percent_of_CVD_In_Total_Deaths_CDC2018_22_x',\n",
       " 'White_Single_Race_Female_Percent_of_CVD_In_Total_Deaths_CDC2018_22_x',\n",
       " 'White_Single_Race_Male_Percent_of_CVD_In_Total_Deaths_CDC2018_22_x',\n",
       " 'Asian_Single_Race_Female_Percent_of_CVD_In_Total_Deaths_CDC2018_22_x',\n",
       " 'Asian_Single_Race_Male_Percent_of_CVD_In_Total_Deaths_CDC2018_22_x',\n",
       " 'NHPI_Single_Race_Female_Percent_of_CVD_In_Total_Deaths_CDC2018_22_x',\n",
       " 'NHPI_Single_Race_Male_Percent_of_CVD_In_Total_Deaths_CDC2018_22_x',\n",
       " 'AIAN_Single_Race_Female_CVD_Deaths_Rate_Per_100,000_Residents_CDC2018_22',\n",
       " 'AIAN_Single_Race_Male_CVD_Deaths_Rate_Per_100,000_Residents_CDC2018_22',\n",
       " 'Black_AA_Single_Race_Female_CVD_Deaths_Rate_Per_100,000_Residents_CDC2018_22',\n",
       " 'Black_AA_Single_Race_Male_CVD_Deaths_Rate_Per_100,000_Residents_CDC2018_22',\n",
       " 'White_Single_Race_Female_CVD_Deaths_Rate_Per_100,000_Residents_CDC2018_22',\n",
       " 'White_Single_Race_Male_CVD_Deaths_Rate_Per_100,000_Residents_CDC2018_22',\n",
       " 'Asian_Single_Race_Female_CVD_Deaths_Rate_Per_100,000_Residents_CDC2018_22',\n",
       " 'Asian_Single_Race_Male_CVD_Deaths_Rate_Per_100,000_Residents_CDC2018_22',\n",
       " 'NHPI_Single_Race_Female_CVD_Deaths_Rate_Per_100,000_Residents_CDC2018_22',\n",
       " 'NHPI_Single_Race_Male_CVD_Deaths_Rate_Per_100,000_Residents_CDC2018_22',\n",
       " 'AIAN_Single_Race_Female_CVD_Deaths_Counts_CDC2018_22_x',\n",
       " 'AIAN_Single_Race_Male_CVD_Deaths_Counts_CDC2018_22_x',\n",
       " 'Black_AA_Single_Race_Female_CVD_Deaths_Counts_CDC2018_22_x',\n",
       " 'Black_AA_Single_Race_Male_CVD_Deaths_Counts_CDC2018_22_x',\n",
       " 'White_Single_Race_Female_CVD_Deaths_Counts_CDC2018_22_x',\n",
       " 'White_Single_Race_Male_CVD_Deaths_Counts_CDC2018_22_x',\n",
       " 'Asian_Single_Race_Female_CVD_Deaths_Counts_CDC2018_22_x',\n",
       " 'Asian_Single_Race_Male_CVD_Deaths_Counts_CDC2018_22_x',\n",
       " 'NHPI_Single_Race_Female_CVD_Deaths_Counts_CDC2018_22_x',\n",
       " 'NHPI_Single_Race_Male_CVD_Deaths_Counts_CDC2018_22_x',\n",
       " 'API_Single_Race_Male_CVD_Deaths_Rate_Per_100,000_Residents_CDC2018_22',\n",
       " 'API_Single_Race_Female_CVD_Deaths_Rate_Per_100,000_Residents_CDC2018_22',\n",
       " 'AIAN_Single_Race_Female_Percent_of_CVD_In_Total_Deaths_CDC2018_22_y',\n",
       " 'AIAN_Single_Race_Male_Percent_of_CVD_In_Total_Deaths_CDC2018_22_y',\n",
       " 'Black_AA_Single_Race_Female_Percent_of_CVD_In_Total_Deaths_CDC2018_22_y',\n",
       " 'Black_AA_Single_Race_Male_Percent_of_CVD_In_Total_Deaths_CDC2018_22_y',\n",
       " 'White_Single_Race_Female_Percent_of_CVD_In_Total_Deaths_CDC2018_22_y',\n",
       " 'White_Single_Race_Male_Percent_of_CVD_In_Total_Deaths_CDC2018_22_y',\n",
       " 'Asian_Single_Race_Female_Percent_of_CVD_In_Total_Deaths_CDC2018_22_y',\n",
       " 'Asian_Single_Race_Male_Percent_of_CVD_In_Total_Deaths_CDC2018_22_y',\n",
       " 'NHPI_Single_Race_Female_Percent_of_CVD_In_Total_Deaths_CDC2018_22_y',\n",
       " 'NHPI_Single_Race_Male_Percent_of_CVD_In_Total_Deaths_CDC2018_22_y',\n",
       " 'AIAN_Single_Race_Female_CVD_Age_Adjusted_Deaths_Rate_Per_100,000_CDC2018_22',\n",
       " 'AIAN_Single_Race_Male_CVD_Age_Adjusted_Deaths_Rate_Per_100,000_CDC2018_22',\n",
       " 'Black_AA_Single_Race_Female_CVD_Age_Adjusted_Deaths_Rate_Per_100,000_CDC2018_22',\n",
       " 'Black_AA_Single_Race_Male_CVD_Age_Adjusted_Deaths_Rate_Per_100,000_CDC2018_22',\n",
       " 'White_Single_Race_Female_CVD_Age_Adjusted_Deaths_Rate_Per_100,000_CDC2018_22',\n",
       " 'White_Single_Race_Male_CVD_Age_Adjusted_Deaths_Rate_Per_100,000_CDC2018_22',\n",
       " 'Asian_Single_Race_Female_CVD_Age_Adjusted_Deaths_Rate_Per_100,000_CDC2018_22',\n",
       " 'Asian_Single_Race_Male_CVD_Age_Adjusted_Deaths_Rate_Per_100,000_CDC2018_22',\n",
       " 'NHPI_Single_Race_Female_CVD_Age_Adjusted_Deaths_Rate_Per_100,000_CDC2018_22',\n",
       " 'NHPI_Single_Race_Male_CVD_Age_Adjusted_Deaths_Rate_Per_100,000_CDC2018_22',\n",
       " 'AIAN_Single_Race_Female_CVD_Deaths_Counts_CDC2018_22_y',\n",
       " 'AIAN_Single_Race_Male_CVD_Deaths_Counts_CDC2018_22_y',\n",
       " 'Black_AA_Single_Race_Female_CVD_Deaths_Counts_CDC2018_22_y',\n",
       " 'Black_AA_Single_Race_Male_CVD_Deaths_Counts_CDC2018_22_y',\n",
       " 'White_Single_Race_Female_CVD_Deaths_Counts_CDC2018_22_y',\n",
       " 'White_Single_Race_Male_CVD_Deaths_Counts_CDC2018_22_y',\n",
       " 'Asian_Single_Race_Female_CVD_Deaths_Counts_CDC2018_22_y',\n",
       " 'Asian_Single_Race_Male_CVD_Deaths_Counts_CDC2018_22_y',\n",
       " 'NHPI_Single_Race_Female_CVD_Deaths_Counts_CDC2018_22_y',\n",
       " 'NHPI_Single_Race_Male_CVD_Deaths_Counts_CDC2018_22_y',\n",
       " 'API_Single_Race_Male_CVD_Deaths_Rate_Per_100,000_CDC2018_22',\n",
       " 'API_Single_Race_Female_CVD_Deaths_Rate_Per_100,000_CDC2018_22']"
      ]
     },
     "execution_count": 3,
     "metadata": {},
     "output_type": "execute_result"
    }
   ],
   "source": [
    "mortality_col = [col for col in data.columns if 'cvd' in col.lower()]\n",
    "mortality_col"
   ]
  },
  {
   "cell_type": "code",
   "execution_count": null,
   "metadata": {},
   "outputs": [],
   "source": []
  }
 ],
 "metadata": {
  "kernelspec": {
   "display_name": "Python 3",
   "language": "python",
   "name": "python3"
  },
  "language_info": {
   "codemirror_mode": {
    "name": "ipython",
    "version": 3
   },
   "file_extension": ".py",
   "mimetype": "text/x-python",
   "name": "python",
   "nbconvert_exporter": "python",
   "pygments_lexer": "ipython3",
   "version": "3.9.21"
  }
 },
 "nbformat": 4,
 "nbformat_minor": 2
}
