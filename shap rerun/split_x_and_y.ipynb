{
 "cells": [
  {
   "cell_type": "code",
   "execution_count": 2,
   "metadata": {},
   "outputs": [],
   "source": [
    "import pandas as pd\n",
    "data = pd.read_csv(\"cleaned_file.csv\")"
   ]
  },
  {
   "cell_type": "code",
   "execution_count": 4,
   "metadata": {},
   "outputs": [
    {
     "data": {
      "text/plain": [
       "0"
      ]
     },
     "execution_count": 4,
     "metadata": {},
     "output_type": "execute_result"
    }
   ],
   "source": [
    "nan_count = data.isna().sum().sum()\n",
    "nan_count"
   ]
  },
  {
   "cell_type": "code",
   "execution_count": null,
   "metadata": {},
   "outputs": [
    {
     "data": {
      "text/plain": [
       "1189693"
      ]
     },
     "execution_count": 6,
     "metadata": {},
     "output_type": "execute_result"
    }
   ],
   "source": [
    "zero_count = (data == 0).sum().sum()\n",
    "zero_count\n",
    "# this is going to be a lot of invalid"
   ]
  },
  {
   "cell_type": "code",
   "execution_count": 9,
   "metadata": {},
   "outputs": [
    {
     "data": {
      "text/plain": [
       "['Total_Population_CVD_Death_Rate_Per_100,000_Residents_CDC_2016_18',\n",
       " 'Total_Population_CVD_Death_Rate_Per_100,000_Residents_CDC_2018_20',\n",
       " 'Total_Population_CVD_Death_Rate_Per_100,000_Residents_CDC_2019_21',\n",
       " 'Female_Population_CVD_Death_Rate_Per_100,000_Residents_CDC_2016_18',\n",
       " 'Female_Population_CVD_Death_Rate_Per_100,000_Residents_CDC_2018_20',\n",
       " 'Female_Population_CVD_Death_Rate_Per_100,000_Residents_CDC_2019_21',\n",
       " 'Male_Population_CVD_Death_Rate_Per_100,000_Residents_CDC_2016_18',\n",
       " 'Male_Population_CVD_Death_Rate_Per_100,000_Residents_CDC_2018_20',\n",
       " 'Male_Population_CVD_Death_Rate_Per_100,000_Residents_CDC_2019_21',\n",
       " 'Black_AA_Single_Race_Population_CVD_Death_Rate_Per_100,000_Residents_CDC_2018_20',\n",
       " 'Asian_Single_Race_Female_CVD_Deaths_Counts_CDC2018_22_x',\n",
       " 'Asian_Single_Race_Male_CVD_Deaths_Counts_CDC2018_22_x',\n",
       " 'NHPI_Single_Race_Female_CVD_Deaths_Counts_CDC2018_22_x',\n",
       " 'NHPI_Single_Race_Male_CVD_Deaths_Counts_CDC2018_22_x']"
      ]
     },
     "execution_count": 9,
     "metadata": {},
     "output_type": "execute_result"
    }
   ],
   "source": [
    "mortality_col = [col for col in data.columns if 'cvd' in col.lower()]\n",
    "mortality_col"
   ]
  },
  {
   "cell_type": "code",
   "execution_count": 30,
   "metadata": {},
   "outputs": [],
   "source": [
    "#combine all three cvds\n",
    "data[\"Total_Population_CVD_Death_Rate_Per_100,000_Residents_CDC_2016_2021\"] = (\n",
    "    data[\"Total_Population_CVD_Death_Rate_Per_100,000_Residents_CDC_2016_18\"] +\n",
    "    data['Total_Population_CVD_Death_Rate_Per_100,000_Residents_CDC_2018_20'] +\n",
    "    data['Total_Population_CVD_Death_Rate_Per_100,000_Residents_CDC_2019_21']\n",
    ") / 3\n",
    "\n",
    "old_cvd_colums = [\"Total_Population_CVD_Death_Rate_Per_100,000_Residents_CDC_2016_18\", 'Total_Population_CVD_Death_Rate_Per_100,000_Residents_CDC_2018_20', \n",
    "                  'Total_Population_CVD_Death_Rate_Per_100,000_Residents_CDC_2019_21']\n",
    "data = data.drop(columns= old_cvd_colums)\n"
   ]
  },
  {
   "cell_type": "code",
   "execution_count": 32,
   "metadata": {},
   "outputs": [
    {
     "data": {
      "text/plain": [
       "['Black_AA_Single_Race_Heart_Attack_Death_Rate_Per_100,000_CDC_ehTracking_2020',\n",
       " 'NHPI_Single_Race_Heart_Attack_Death_Rate_Per_100,000_CDC_ehTracking_2018',\n",
       " 'NHPI_Single_Race_Heart_Attack_Death_Rate_Per_100,000_CDC_ehTracking_2019',\n",
       " 'NHPI_Single_Race_Heart_Attack_Death_Rate_Per_100,000_CDC_ehTracking_2020',\n",
       " 'NHPI_Single_Race_Heart_Attack_Death_Rate_Per_100,000_CDC_ehTracking_2021',\n",
       " 'Black_AA_Single_Race_Ischemic_Heart_Disease_Death_Rate_Per_100,000_CDC_ehTracking_2018',\n",
       " 'Black_AA_Single_Race_Ischemic_Heart_Disease_Death_Rate_Per_100,000_CDC_ehTracking_2019',\n",
       " 'Black_AA_Single_Race_Ischemic_Heart_Disease_Death_Rate_Per_100,000_CDC_ehTracking_2020',\n",
       " 'Black_AA_Single_Race_Ischemic_Heart_Disease_Death_Rate_Per_100,000_CDC_ehTracking_2021',\n",
       " 'NHPI_Single_Race_Ischemic_Heart_Disease_Death_Rate_Per_100,000_CDC_ehTracking_2018',\n",
       " 'NHPI_Single_Race_Ischemic_Heart_Disease_Death_Rate_Per_100,000_CDC_ehTracking_2019',\n",
       " 'NHPI_Single_Race_Ischemic_Heart_Disease_Death_Rate_Per_100,000_CDC_ehTracking_2020',\n",
       " 'NHPI_Single_Race_Ischemic_Heart_Disease_Death_Rate_Per_100,000_CDC_ehTracking_2021',\n",
       " 'Female_Population_CVD_Death_Rate_Per_100,000_Residents_CDC_2016_18',\n",
       " 'Female_Population_CVD_Death_Rate_Per_100,000_Residents_CDC_2018_20',\n",
       " 'Female_Population_CVD_Death_Rate_Per_100,000_Residents_CDC_2019_21',\n",
       " 'Male_Population_CVD_Death_Rate_Per_100,000_Residents_CDC_2016_18',\n",
       " 'Male_Population_CVD_Death_Rate_Per_100,000_Residents_CDC_2018_20',\n",
       " 'Male_Population_CVD_Death_Rate_Per_100,000_Residents_CDC_2019_21',\n",
       " 'Black_AA_Single_Race_Population_CVD_Death_Rate_Per_100,000_Residents_CDC_2018_20',\n",
       " 'Asian_Single_Race_Female_Renal_Failure_Deaths_Counts_CDC2018_22_x',\n",
       " 'Asian_Single_Race_Male_Renal_Failure_Deaths_Counts_CDC2018_22_x',\n",
       " 'NHPI_Single_Race_Female_Renal_Failure_Deaths_Counts_CDC2018_22_x',\n",
       " 'NHPI_Single_Race_Male_Renal_Failure_Deaths_Counts_CDC2018_22_x',\n",
       " 'Asian_Single_Race_Female_CVD_Deaths_Counts_CDC2018_22_x',\n",
       " 'Asian_Single_Race_Male_CVD_Deaths_Counts_CDC2018_22_x',\n",
       " 'NHPI_Single_Race_Female_CVD_Deaths_Counts_CDC2018_22_x',\n",
       " 'NHPI_Single_Race_Male_CVD_Deaths_Counts_CDC2018_22_x',\n",
       " 'White_Single_Race_Male_Diabetes_Deaths_Counts_CDC2018_22_x',\n",
       " 'Asian_Single_Race_Female_Diabetes_Deaths_Counts_CDC2018_22_x',\n",
       " 'Asian_Single_Race_Male_Diabetes_Deaths_Counts_CDC2018_22_x',\n",
       " 'NHPI_Single_Race_Female_Diabetes_Deaths_Counts_CDC2018_22_x',\n",
       " 'NHPI_Single_Race_Male_Diabetes_Deaths_Counts_CDC2018_22_x',\n",
       " 'White_Single_Race_Female_Hypertension_Deaths_Counts_CDC2018_22_x',\n",
       " 'Asian_Single_Race_Female_Hypertension_Deaths_Counts_CDC2018_22_x',\n",
       " 'Asian_Single_Race_Male_Hypertension_Deaths_Counts_CDC2018_22_x',\n",
       " 'NHPI_Single_Race_Female_Hypertension_Deaths_Counts_CDC2018_22_x',\n",
       " 'NHPI_Single_Race_Male_Hypertension_Deaths_Counts_CDC2018_22_x',\n",
       " 'Asian_Single_Race_Female_Obesity_and_Hyperalimentation_Deaths_Counts_CDC2018_22_x',\n",
       " 'NHPI_Single_Race_Female_Obesity_and_Hyperalimentation_Deaths_Counts_CDC2018_22_x',\n",
       " 'White_Single_Race_Male_Percent_of_Diabetes_In_Total_Deaths_CDC2018_22_x',\n",
       " 'White_Single_Race_Male_Diabetes_Deaths_Rate_Per_100,000_Residents_CDC2018_22',\n",
       " 'White_Single_Race_Female_Percent_of_Hypertension_In_Total_Deaths_CDC2018_22_x',\n",
       " 'White_Single_Race_Female_Hypertension_Deaths_Rate_Per_100,000_Residents_CDC2018_22',\n",
       " 'Total_Population_CVD_Death_Rate_Per_100,000_Residents_CDC_2016_2021']"
      ]
     },
     "execution_count": 32,
     "metadata": {},
     "output_type": "execute_result"
    }
   ],
   "source": [
    "response_keywords = ['death','cvd']\n",
    "response_columns = [col for col in data.columns if any(keyword.lower() in col.lower() for keyword in response_keywords)]\n",
    "response_columns"
   ]
  },
  {
   "cell_type": "code",
   "execution_count": 25,
   "metadata": {},
   "outputs": [],
   "source": [
    "data_x_less = data.drop(columns=response_columns)\n",
    "data_x_less.to_csv(\"x_imputed_less_response.csv\")"
   ]
  },
  {
   "cell_type": "code",
   "execution_count": 34,
   "metadata": {},
   "outputs": [],
   "source": [
    "data_x = data.drop(columns = 'Total_Population_CVD_Death_Rate_Per_100,000_Residents_CDC_2016_2021')\n",
    "data_x.to_csv(\"x_imputed.csv\")"
   ]
  },
  {
   "cell_type": "code",
   "execution_count": 35,
   "metadata": {},
   "outputs": [],
   "source": [
    "data_y = data[\"Total_Population_CVD_Death_Rate_Per_100,000_Residents_CDC_2016_2021\"]\n",
    "data_y.to_csv(\"response.csv\")"
   ]
  },
  {
   "cell_type": "code",
   "execution_count": null,
   "metadata": {},
   "outputs": [],
   "source": []
  }
 ],
 "metadata": {
  "kernelspec": {
   "display_name": "Python 3",
   "language": "python",
   "name": "python3"
  },
  "language_info": {
   "codemirror_mode": {
    "name": "ipython",
    "version": 3
   },
   "file_extension": ".py",
   "mimetype": "text/x-python",
   "name": "python",
   "nbconvert_exporter": "python",
   "pygments_lexer": "ipython3",
   "version": "3.10.0"
  }
 },
 "nbformat": 4,
 "nbformat_minor": 2
}
