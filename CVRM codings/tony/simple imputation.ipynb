{
 "cells": [
  {
   "cell_type": "code",
   "execution_count": 1,
   "metadata": {},
   "outputs": [
    {
     "name": "stderr",
     "output_type": "stream",
     "text": [
      "/var/folders/26/l89mqgp17zj82yvlmd3z3r200000ks/T/ipykernel_32578/1321871251.py:3: DtypeWarning: Columns (1697,1698) have mixed types. Specify dtype option on import or set low_memory=False.\n",
      "  data = pd.read_csv('cvrm_master.csv')\n"
     ]
    }
   ],
   "source": [
    "import pandas as pd\n",
    "import numpy as np\n",
    "data = pd.read_csv('cvrm_master.csv')\n",
    "from cleaning_function import *"
   ]
  },
  {
   "cell_type": "code",
   "execution_count": 2,
   "metadata": {},
   "outputs": [],
   "source": [
    "data.replace([np.inf, -np.inf], np.nan, inplace=True)\n",
    "data = drop_null_columns(data, 0.6)"
   ]
  },
  {
   "cell_type": "code",
   "execution_count": 3,
   "metadata": {},
   "outputs": [],
   "source": [
    "numerical_cols = data.select_dtypes(include=['number']).columns\n",
    "categorical_cols = data.select_dtypes(exclude=['number']).columns\n",
    "df_mean = data.copy()\n",
    "df_mean[numerical_cols] = df_mean[numerical_cols].fillna(df_mean[numerical_cols].mean())\n",
    "\n",
    "df_median = data.copy()\n",
    "df_median[numerical_cols] = df_median[numerical_cols].fillna(df_median[numerical_cols].median())\n",
    "\n",
    "df_mean.to_csv('mean_imputation.csv',index = False)\n",
    "df_median.to_csv('median_imputation.csv', index = False)"
   ]
  },
  {
   "cell_type": "code",
   "execution_count": 2,
   "metadata": {},
   "outputs": [
    {
     "name": "stdout",
     "output_type": "stream",
     "text": [
      "Starting Mean Imputation - Fold 1\n",
      "Mean - Fold 1 RMSE: 0.6203075757012638\n",
      "Starting Mean Imputation - Fold 2\n",
      "Mean - Fold 2 RMSE: 0.6200968725832966\n",
      "Starting Mean Imputation - Fold 3\n",
      "Mean - Fold 3 RMSE: 19.041173206061067\n",
      "Starting Mean Imputation - Fold 4\n",
      "Mean - Fold 4 RMSE: 0.6162126549721304\n",
      "Starting Mean Imputation - Fold 5\n",
      "Mean - Fold 5 RMSE: 0.5763441819180056\n",
      "Average RMSE for Mean Imputation: 4.294826898247154\n",
      "Starting Median Imputation - Fold 1\n",
      "Median - Fold 1 RMSE: 0.6194973315398064\n",
      "Starting Median Imputation - Fold 2\n",
      "Median - Fold 2 RMSE: 0.619297478267454\n",
      "Starting Median Imputation - Fold 3\n",
      "Median - Fold 3 RMSE: 0.7991300017604913\n",
      "Starting Median Imputation - Fold 4\n",
      "Median - Fold 4 RMSE: 0.6152047913944871\n",
      "Starting Median Imputation - Fold 5\n",
      "Median - Fold 5 RMSE: 0.5754361013402166\n",
      "Average RMSE for Median Imputation: 0.645713140860491\n",
      "Final RMSE Comparison:\n",
      "Mean Imputation: 4.294826898247154\n",
      "Median Imputation: 0.645713140860491\n"
     ]
    }
   ],
   "source": [
    "import numpy as np\n",
    "import pandas as pd\n",
    "from sklearn.model_selection import KFold\n",
    "from sklearn.preprocessing import StandardScaler\n",
    "from sklearn.decomposition import PCA\n",
    "from sklearn.linear_model import Ridge\n",
    "from sklearn.metrics import mean_squared_error\n",
    "import warnings\n",
    "\n",
    "warnings.filterwarnings(\"ignore\")\n",
    "\n",
    "data = drop_null_columns(data, 0.6)\n",
    "data.replace([np.inf, -np.inf], np.nan, inplace=True)\n",
    "numerical_cols = data.select_dtypes(include=['number']).columns\n",
    "categorical_cols = data.select_dtypes(exclude=['number']).columns\n",
    "\n",
    "df_mean = data.copy()\n",
    "df_mean[numerical_cols] = df_mean[numerical_cols].fillna(df_mean[numerical_cols].mean())\n",
    "df_median = data.copy()\n",
    "df_median[numerical_cols] = df_median[numerical_cols].fillna(df_median[numerical_cols].median())\n",
    "\n",
    "df_mean.to_csv('mean_imputation.csv', index=False)\n",
    "df_median.to_csv('median_imputation.csv', index=False)\n",
    "kf = KFold(n_splits=5, shuffle=True, random_state=42)\n",
    "\n",
    "\n",
    "def compute_rmse(df, imputation_type):\n",
    "    all_rmse = []\n",
    "    for fold, (train_idx, test_idx) in enumerate(kf.split(df[numerical_cols])):\n",
    "        print(f\"Starting {imputation_type} Imputation - Fold {fold + 1}\")\n",
    "        train_data, test_data = df.iloc[train_idx], df.iloc[test_idx]\n",
    "        scaler = StandardScaler()\n",
    "        train_scaled = scaler.fit_transform(train_data[numerical_cols])\n",
    "        test_scaled = scaler.transform(test_data[numerical_cols])\n",
    "        pca = PCA(n_components=min(20, train_scaled.shape[1])) \n",
    "        train_reduced = pca.fit_transform(train_scaled)\n",
    "        test_reduced = pca.transform(test_scaled)\n",
    "\n",
    "        model = Ridge(alpha=1.0)\n",
    "        model.fit(train_reduced, train_scaled) \n",
    "        test_predictions = model.predict(test_reduced)\n",
    "        mse = mean_squared_error(test_scaled, test_predictions)\n",
    "        rmse = np.sqrt(mse)\n",
    "        all_rmse.append(rmse)\n",
    "\n",
    "        print(f\"{imputation_type} - Fold {fold + 1} RMSE: {rmse}\")\n",
    "\n",
    "    avg_rmse = sum(all_rmse) / len(all_rmse)\n",
    "    print(f\"Average RMSE for {imputation_type} Imputation: {avg_rmse}\")\n",
    "    return avg_rmse\n",
    "\n",
    "mean_rmse = compute_rmse(df_mean, \"Mean\")\n",
    "median_rmse = compute_rmse(df_median, \"Median\")\n",
    "\n",
    "print(f\"Final RMSE Comparison:\\nMean Imputation: {mean_rmse}\\nMedian Imputation: {median_rmse}\")\n"
   ]
  },
  {
   "cell_type": "code",
   "execution_count": null,
   "metadata": {},
   "outputs": [],
   "source": []
  }
 ],
 "metadata": {
  "kernelspec": {
   "display_name": "Python 3",
   "language": "python",
   "name": "python3"
  },
  "language_info": {
   "codemirror_mode": {
    "name": "ipython",
    "version": 3
   },
   "file_extension": ".py",
   "mimetype": "text/x-python",
   "name": "python",
   "nbconvert_exporter": "python",
   "pygments_lexer": "ipython3",
   "version": "3.10.0"
  }
 },
 "nbformat": 4,
 "nbformat_minor": 2
}
