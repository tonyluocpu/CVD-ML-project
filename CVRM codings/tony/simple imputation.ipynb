{
 "cells": [
  {
   "cell_type": "code",
   "execution_count": 1,
   "metadata": {},
   "outputs": [
    {
     "name": "stderr",
     "output_type": "stream",
     "text": [
      "/var/folders/26/l89mqgp17zj82yvlmd3z3r200000ks/T/ipykernel_6778/1321871251.py:3: DtypeWarning: Columns (1697,1698) have mixed types. Specify dtype option on import or set low_memory=False.\n",
      "  data = pd.read_csv('cvrm_master.csv')\n"
     ]
    }
   ],
   "source": [
    "import pandas as pd\n",
    "import numpy as np\n",
    "data = pd.read_csv('cvrm_master.csv')\n",
    "from cleaning_function import *"
   ]
  },
  {
   "cell_type": "code",
   "execution_count": 2,
   "metadata": {},
   "outputs": [],
   "source": [
    "data.replace([np.inf, -np.inf], np.nan, inplace=True)\n",
    "data = drop_null_columns(data, 0.6)"
   ]
  },
  {
   "cell_type": "code",
   "execution_count": 3,
   "metadata": {},
   "outputs": [],
   "source": [
    "numerical_cols = data.select_dtypes(include=['number']).columns\n",
    "categorical_cols = data.select_dtypes(exclude=['number']).columns\n",
    "\n",
    "# **2️⃣ Apply Mean Imputation to Numerical Data**\n",
    "df_mean = data.copy()\n",
    "df_mean[numerical_cols] = df_mean[numerical_cols].fillna(df_mean[numerical_cols].mean())\n",
    "\n",
    "# **3️⃣ Apply Median Imputation to Numerical Data**\n",
    "df_median = data.copy()\n",
    "df_median[numerical_cols] = df_median[numerical_cols].fillna(df_median[numerical_cols].median())\n",
    "\n",
    "df_mean.to_csv('mean_imputation.csv',index = False)\n",
    "df_median.to_csv('median_imputation.csv', index = False)"
   ]
  },
  {
   "cell_type": "code",
   "execution_count": null,
   "metadata": {},
   "outputs": [],
   "source": []
  }
 ],
 "metadata": {
  "kernelspec": {
   "display_name": "Python 3",
   "language": "python",
   "name": "python3"
  },
  "language_info": {
   "codemirror_mode": {
    "name": "ipython",
    "version": 3
   },
   "file_extension": ".py",
   "mimetype": "text/x-python",
   "name": "python",
   "nbconvert_exporter": "python",
   "pygments_lexer": "ipython3",
   "version": "3.10.0"
  }
 },
 "nbformat": 4,
 "nbformat_minor": 2
}
