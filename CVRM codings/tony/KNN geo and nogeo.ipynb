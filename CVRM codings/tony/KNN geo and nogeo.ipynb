{
 "cells": [
  {
   "cell_type": "code",
   "execution_count": 3,
   "metadata": {},
   "outputs": [],
   "source": [
    "import numpy as np\n",
    "import pandas as pd\n",
    "from sklearn.neighbors import BallTree\n",
    "from sklearn.impute import KNNImputer\n",
    "from cleaning_function import *"
   ]
  },
  {
   "cell_type": "code",
   "execution_count": 4,
   "metadata": {},
   "outputs": [
    {
     "name": "stderr",
     "output_type": "stream",
     "text": [
      "/var/folders/26/l89mqgp17zj82yvlmd3z3r200000ks/T/ipykernel_6690/344588617.py:6: DtypeWarning: Columns (1697,1698) have mixed types. Specify dtype option on import or set low_memory=False.\n",
      "  df = pd.read_csv('cvrm_master.csv')\n"
     ]
    }
   ],
   "source": [
    "import numpy as np\n",
    "import pandas as pd\n",
    "from sklearn.neighbors import BallTree\n",
    "from sklearn.impute import KNNImputer\n",
    "\n",
    "df = pd.read_csv('cvrm_master.csv')\n",
    "df.replace([np.inf, -np.inf], np.nan, inplace=True)\n",
    "\n",
    "df = drop_null_columns(df, 0.6)\n",
    "\n",
    "numerical_cols = df.select_dtypes(include=['number']).columns.tolist()\n",
    "categorical_cols = df.select_dtypes(exclude=['number']).columns.tolist()\n",
    "\n",
    "coords = np.radians(df[['Latitude', 'Longitude']].to_numpy())\n",
    "tree = BallTree(coords, metric=\"haversine\")\n",
    "\n",
    "\n",
    "distances, indices = tree.query(coords, k=11)  #\n",
    "knn_imputer = KNNImputer(n_neighbors=3)\n",
    "df_numerical_imputed = pd.DataFrame(knn_imputer.fit_transform(df[numerical_cols]), columns=numerical_cols)\n",
    "df_final = pd.concat([df_numerical_imputed, df[categorical_cols]], axis=1)"
   ]
  },
  {
   "cell_type": "code",
   "execution_count": 9,
   "metadata": {},
   "outputs": [],
   "source": [
    "df_final.to_csv('geoknn.csv', index = False)"
   ]
  },
  {
   "cell_type": "code",
   "execution_count": 6,
   "metadata": {},
   "outputs": [],
   "source": [
    "data_normal_knn = KNN_single_columns_imputation_numeric(df, None, 10)"
   ]
  },
  {
   "cell_type": "code",
   "execution_count": 8,
   "metadata": {},
   "outputs": [],
   "source": [
    "data_normal_knn.to_csv('knnnormal.csv',index = False)"
   ]
  },
  {
   "cell_type": "code",
   "execution_count": null,
   "metadata": {},
   "outputs": [],
   "source": []
  }
 ],
 "metadata": {
  "kernelspec": {
   "display_name": "Python 3",
   "language": "python",
   "name": "python3"
  },
  "language_info": {
   "codemirror_mode": {
    "name": "ipython",
    "version": 3
   },
   "file_extension": ".py",
   "mimetype": "text/x-python",
   "name": "python",
   "nbconvert_exporter": "python",
   "pygments_lexer": "ipython3",
   "version": "3.10.0"
  }
 },
 "nbformat": 4,
 "nbformat_minor": 2
}
