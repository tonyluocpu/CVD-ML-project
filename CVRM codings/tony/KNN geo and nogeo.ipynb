{
 "cells": [
  {
   "cell_type": "code",
   "execution_count": 2,
   "metadata": {},
   "outputs": [],
   "source": [
    "import numpy as np\n",
    "import pandas as pd\n",
    "from sklearn.neighbors import BallTree\n",
    "from sklearn.impute import KNNImputer\n",
    "from cleaning_function import *"
   ]
  },
  {
   "cell_type": "code",
   "execution_count": null,
   "metadata": {},
   "outputs": [
    {
     "name": "stderr",
     "output_type": "stream",
     "text": [
      "/var/folders/26/l89mqgp17zj82yvlmd3z3r200000ks/T/ipykernel_27144/1910813325.py:12: DtypeWarning: Columns (1697,1698) have mixed types. Specify dtype option on import or set low_memory=False.\n",
      "  df = pd.read_csv('cvrm_master.csv')\n"
     ]
    },
    {
     "name": "stdout",
     "output_type": "stream",
     "text": [
      "Starting Fold 1\n",
      "Fold 1 RMSE: 0.6138167568472236\n",
      "Starting Fold 2\n",
      "Fold 2 RMSE: 0.6134611520665076\n",
      "Starting Fold 3\n",
      "Fold 3 RMSE: 0.7954537505754798\n",
      "Starting Fold 4\n",
      "Fold 4 RMSE: 0.6089049117525633\n",
      "Starting Fold 5\n",
      "Fold 5 RMSE: 0.5695857826866944\n",
      "Average RMSE across all folds: 0.6402444707856937\n"
     ]
    }
   ],
   "source": [
    "import numpy as np\n",
    "import pandas as pd\n",
    "from sklearn.impute import KNNImputer\n",
    "from sklearn.model_selection import KFold\n",
    "from sklearn.preprocessing import StandardScaler\n",
    "from sklearn.decomposition import PCA\n",
    "from sklearn.neighbors import BallTree\n",
    "from sklearn.linear_model import Ridge\n",
    "from sklearn.metrics import mean_squared_error\n",
    "\n",
    "df = pd.read_csv('cvrm_master.csv')\n",
    "df.replace([np.inf, -np.inf], np.nan, inplace=True)\n",
    "df = drop_null_columns(df, 0.6)\n",
    "\n",
    "numerical_cols = df.select_dtypes(include=['number']).columns.tolist()\n",
    "categorical_cols = df.select_dtypes(exclude=['number']).columns.tolist()\n",
    "df[categorical_cols] = df[categorical_cols].fillna(\"missing\").astype(\"category\").apply(lambda x: x.cat.codes)\n",
    "\n",
    "coords = np.radians(df[['Latitude', 'Longitude']].to_numpy())\n",
    "tree = BallTree(coords, metric=\"haversine\")\n",
    "distances, indices = tree.query(coords, k=11) \n",
    "knn_imputer = KNNImputer(n_neighbors=10)\n",
    "df_numerical_imputed = pd.DataFrame(knn_imputer.fit_transform(df[numerical_cols]), columns=numerical_cols)\n",
    "df_final = pd.concat([df_numerical_imputed, df[categorical_cols]], axis=1)\n",
    "\n",
    "\n",
    "kf = KFold(n_splits=5, shuffle=True, random_state=42)\n",
    "all_rmse = []\n",
    "\n",
    "for fold, (train_idx, test_idx) in enumerate(kf.split(df_final)):\n",
    "    print(f\"Starting Fold {fold + 1}\")\n",
    "    train_data, test_data = df_final.iloc[train_idx], df_final.iloc[test_idx]\n",
    "    train_coords = np.radians(train_data[['Latitude', 'Longitude']].to_numpy())\n",
    "    train_tree = BallTree(train_coords, metric=\"haversine\")\n",
    "    train_distances, train_indices = train_tree.query(train_coords, k=11)\n",
    "    \n",
    "    scaler = StandardScaler()\n",
    "    train_data_scaled = scaler.fit_transform(train_data[numerical_cols])\n",
    "    test_data_scaled = scaler.transform(test_data[numerical_cols])\n",
    "\n",
    "    pca = PCA(n_components=20)\n",
    "    train_reduced = pca.fit_transform(train_data_scaled)\n",
    "    test_reduced = pca.transform(test_data_scaled)\n",
    "    model = Ridge(alpha=1.0) \n",
    "    model.fit(train_reduced, train_data_scaled)  \n",
    "    test_predictions = model.predict(test_reduced)\n",
    "\n",
    "    mse = mean_squared_error(test_data_scaled, test_predictions)\n",
    "    rmse = np.sqrt(mse)\n",
    "    all_rmse.append(rmse)\n",
    "    \n",
    "    print(f\"Fold {fold + 1} RMSE: {rmse}\")\n",
    "\n",
    "print(f\"Average RMSE across all folds: {sum(all_rmse) / len(all_rmse)}\")\n"
   ]
  },
  {
   "cell_type": "code",
   "execution_count": 4,
   "metadata": {},
   "outputs": [],
   "source": [
    "df_final.to_csv('geoknn.csv', index = False)\n"
   ]
  },
  {
   "cell_type": "code",
   "execution_count": null,
   "metadata": {},
   "outputs": [
    {
     "name": "stdout",
     "output_type": "stream",
     "text": [
      "Starting Fold 1\n",
      "Fold 1 RMSE: 0.6152399756600554\n",
      "Starting Fold 2\n",
      "Fold 2 RMSE: 0.6149490570970514\n",
      "Starting Fold 3\n",
      "Fold 3 RMSE: 0.7938901198658991\n",
      "Starting Fold 4\n",
      "Fold 4 RMSE: 0.6104142982945249\n",
      "Starting Fold 5\n",
      "Fold 5 RMSE: 0.5713967125198606\n",
      "Average RMSE across all folds: 0.6411780326874783\n"
     ]
    }
   ],
   "source": [
    "import numpy as np\n",
    "import pandas as pd\n",
    "from sklearn.impute import KNNImputer\n",
    "from sklearn.model_selection import KFold\n",
    "from sklearn.preprocessing import StandardScaler\n",
    "from sklearn.decomposition import PCA\n",
    "from sklearn.linear_model import Ridge\n",
    "from sklearn.metrics import mean_squared_error\n",
    "import warnings\n",
    "\n",
    "warnings.filterwarnings(\"ignore\")\n",
    "\n",
    "data = df\n",
    "data.replace([np.inf, -np.inf], np.nan, inplace=True)\n",
    "numerical_cols = data.select_dtypes(include=['number']).columns.tolist()\n",
    "data_numeric = data[numerical_cols]\n",
    "kf = KFold(n_splits=5, shuffle=True, random_state=42)\n",
    "all_rmse = []\n",
    "\n",
    "for fold, (train_idx, test_idx) in enumerate(kf.split(data_numeric)):\n",
    "    print(f\"Starting Fold {fold + 1}\")\n",
    "\n",
    "    train_data, test_data = data_numeric.iloc[train_idx], data_numeric.iloc[test_idx]\n",
    "    knn_imputer = KNNImputer(n_neighbors=10)\n",
    "    train_imputed = pd.DataFrame(knn_imputer.fit_transform(train_data), columns=numerical_cols)\n",
    "    test_imputed = pd.DataFrame(knn_imputer.transform(test_data), columns=numerical_cols)\n",
    "\n",
    "    scaler = StandardScaler()\n",
    "    train_scaled = scaler.fit_transform(train_imputed)\n",
    "    test_scaled = scaler.transform(test_imputed)\n",
    "    pca = PCA(n_components=min(20, train_scaled.shape[1]))  \n",
    "    train_reduced = pca.fit_transform(train_scaled)\n",
    "    test_reduced = pca.transform(test_scaled)\n",
    "\n",
    "    model = Ridge(alpha=1.0)\n",
    "    model.fit(train_reduced, train_scaled)\n",
    "    test_predictions = model.predict(test_reduced)\n",
    "    mse = mean_squared_error(test_scaled, test_predictions)\n",
    "    rmse = np.sqrt(mse)\n",
    "    all_rmse.append(rmse)\n",
    "    \n",
    "    print(f\"Fold {fold + 1} RMSE: {rmse}\")\n",
    "print(f\"Average RMSE across all folds: {sum(all_rmse) / len(all_rmse)}\")\n"
   ]
  },
  {
   "cell_type": "code",
   "execution_count": 10,
   "metadata": {},
   "outputs": [],
   "source": [
    "import numpy as np\n",
    "import pandas as pd\n",
    "from sklearn.impute import KNNImputer\n",
    "from sklearn.neighbors import BallTree\n",
    "\n",
    "df = pd.read_csv('cvrm_master.csv')\n",
    "df.replace([np.inf, -np.inf], np.nan, inplace=True)\n",
    "df = drop_null_columns(df, 0.6)\n",
    "\n",
    "numerical_cols = df.select_dtypes(include=['number']).columns.tolist()\n",
    "categorical_cols = df.select_dtypes(exclude=['number']).columns.tolist()\n",
    "df[categorical_cols] = df[categorical_cols].fillna(\"missing\").astype(\"category\").apply(lambda x: x.cat.codes)\n",
    "\n",
    "coords = np.radians(df[['Latitude', 'Longitude']].to_numpy())\n",
    "tree = BallTree(coords, metric=\"haversine\")\n",
    "distances, indices = tree.query(coords, k=11) \n",
    "\n",
    "knn_imputer = KNNImputer(n_neighbors=10)\n",
    "df_numerical_imputed = pd.DataFrame(knn_imputer.fit_transform(df[numerical_cols]), columns=numerical_cols)\n",
    "df_final = pd.concat([df_numerical_imputed, df[categorical_cols]], axis=1)\n",
    "\n",
    "df_final.to_csv(\"geoknn.csv\", index=False)\n"
   ]
  },
  {
   "cell_type": "code",
   "execution_count": 11,
   "metadata": {},
   "outputs": [
    {
     "data": {
      "text/plain": [
       "0"
      ]
     },
     "execution_count": 11,
     "metadata": {},
     "output_type": "execute_result"
    }
   ],
   "source": [
    "df_final.isnull().sum().sum()"
   ]
  },
  {
   "cell_type": "code",
   "execution_count": null,
   "metadata": {},
   "outputs": [],
   "source": []
  }
 ],
 "metadata": {
  "kernelspec": {
   "display_name": "Python 3",
   "language": "python",
   "name": "python3"
  },
  "language_info": {
   "codemirror_mode": {
    "name": "ipython",
    "version": 3
   },
   "file_extension": ".py",
   "mimetype": "text/x-python",
   "name": "python",
   "nbconvert_exporter": "python",
   "pygments_lexer": "ipython3",
   "version": "3.10.0"
  }
 },
 "nbformat": 4,
 "nbformat_minor": 2
}
