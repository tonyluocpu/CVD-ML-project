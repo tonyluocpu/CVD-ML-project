{
 "cells": [
  {
   "cell_type": "code",
   "execution_count": 2,
   "metadata": {},
   "outputs": [
    {
     "name": "stderr",
     "output_type": "stream",
     "text": [
      "/var/folders/26/l89mqgp17zj82yvlmd3z3r200000ks/T/ipykernel_32252/187753911.py:3: DtypeWarning: Columns (1697,1698) have mixed types. Specify dtype option on import or set low_memory=False.\n",
      "  data = pd.read_csv('cvrm_master.csv')\n"
     ]
    }
   ],
   "source": [
    "import pandas as pd\n",
    "from cleaning_function import *\n",
    "data = pd.read_csv('cvrm_master.csv')"
   ]
  },
  {
   "cell_type": "code",
   "execution_count": 4,
   "metadata": {},
   "outputs": [],
   "source": [
    "data = drop_null_columns(data, 0.6)\n",
    "data.replace([np.inf, -np.inf], np.nan, inplace=True)"
   ]
  },
  {
   "cell_type": "code",
   "execution_count": 5,
   "metadata": {},
   "outputs": [
    {
     "name": "stdout",
     "output_type": "stream",
     "text": [
      "Starting Fold 1\n",
      "Fold 1 RMSE: 0.6418471857825581\n",
      "Starting Fold 2\n",
      "Fold 2 RMSE: 0.6433850814249468\n",
      "Starting Fold 3\n",
      "Fold 3 RMSE: 22.25641970966385\n",
      "Starting Fold 4\n",
      "Fold 4 RMSE: 0.6353782986734781\n",
      "Starting Fold 5\n",
      "Fold 5 RMSE: 0.5898924670172181\n",
      "Average RMSE across all folds: 4.9533845485124095\n"
     ]
    }
   ],
   "source": [
    "import numpy as np\n",
    "import pandas as pd\n",
    "from sklearn.mixture import GaussianMixture\n",
    "from sklearn.model_selection import KFold\n",
    "from sklearn.preprocessing import StandardScaler\n",
    "from sklearn.decomposition import PCA\n",
    "from sklearn.linear_model import Ridge\n",
    "from sklearn.metrics import mean_squared_error\n",
    "import warnings\n",
    "\n",
    "import warnings\n",
    "warnings.filterwarnings(\"ignore\")\n",
    "\n",
    "def gmm_imputation(df, n_components=3):\n",
    "    \"\"\"Impute missing values using Gaussian Mixture Model (GMM).\"\"\"\n",
    "    df_imputed = df.copy()\n",
    "    for col in df.columns:\n",
    "        if df[col].isna().any(): \n",
    "            valid_data = df[[col]].dropna()\n",
    "            if valid_data.nunique().values[0] > 1:  \n",
    "                gmm = GaussianMixture(n_components=n_components, random_state=42)\n",
    "                gmm.fit(valid_data)\n",
    "                missing_indices = df[col].isna()\n",
    "                df_imputed.loc[missing_indices, col] = gmm.sample(missing_indices.sum())[0].flatten()\n",
    "            else:\n",
    "                df_imputed[col].fillna(valid_data.mean().values[0], inplace=True)\n",
    "    return df_imputed\n",
    "\n",
    "\n",
    "data = drop_null_columns(data, 0.6)\n",
    "data.replace([np.inf, -np.inf], np.nan, inplace=True)\n",
    "numerical_cols = data.select_dtypes(include=['number']).columns.tolist()\n",
    "data_numeric = data[numerical_cols]\n",
    "\n",
    "kf = KFold(n_splits=5, shuffle=True, random_state=42)\n",
    "all_rmse = []\n",
    "\n",
    "for fold, (train_idx, test_idx) in enumerate(kf.split(data_numeric)):\n",
    "    print(f\"Starting Fold {fold + 1}\")\n",
    "\n",
    "\n",
    "    train_data, test_data = data_numeric.iloc[train_idx], data_numeric.iloc[test_idx]\n",
    "\n",
    "    train_imputed = gmm_imputation(train_data)\n",
    "    test_imputed = gmm_imputation(test_data)\n",
    "    scaler = StandardScaler()\n",
    "    train_scaled = scaler.fit_transform(train_imputed)\n",
    "    test_scaled = scaler.transform(test_imputed)\n",
    "\n",
    "    pca = PCA(n_components=min(20, train_scaled.shape[1]))  \n",
    "    train_reduced = pca.fit_transform(train_scaled)\n",
    "    test_reduced = pca.transform(test_scaled)\n",
    "\n",
    "    model = Ridge(alpha=1.0)\n",
    "    model.fit(train_reduced, train_scaled)  \n",
    "    test_predictions = model.predict(test_reduced)\n",
    "    mse = mean_squared_error(test_scaled, test_predictions)\n",
    "    rmse = np.sqrt(mse)\n",
    "    all_rmse.append(rmse)\n",
    "    \n",
    "    print(f\"Fold {fold + 1} RMSE: {rmse}\")\n",
    "\n",
    "print(f\"Average RMSE across all folds: {sum(all_rmse) / len(all_rmse)}\")\n"
   ]
  },
  {
   "cell_type": "code",
   "execution_count": null,
   "metadata": {},
   "outputs": [],
   "source": []
  }
 ],
 "metadata": {
  "kernelspec": {
   "display_name": "Python 3",
   "language": "python",
   "name": "python3"
  },
  "language_info": {
   "codemirror_mode": {
    "name": "ipython",
    "version": 3
   },
   "file_extension": ".py",
   "mimetype": "text/x-python",
   "name": "python",
   "nbconvert_exporter": "python",
   "pygments_lexer": "ipython3",
   "version": "3.10.0"
  }
 },
 "nbformat": 4,
 "nbformat_minor": 2
}
