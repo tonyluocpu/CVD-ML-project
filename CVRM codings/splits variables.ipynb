{
 "cells": [
  {
   "cell_type": "code",
   "execution_count": 2,
   "metadata": {},
   "outputs": [],
   "source": [
    "import pandas as pd\n",
    "data = pd.read_csv('raw.csv')"
   ]
  },
  {
   "cell_type": "code",
   "execution_count": 3,
   "metadata": {},
   "outputs": [
    {
     "data": {
      "text/plain": [
       "Index(['statecounty', 'Total_Violent_and_Property_Crimes_FBI2019',\n",
       "       'Total_Violent_and_Property_Crimes_Rate_FBI2019',\n",
       "       'Percent_Violent_Crimes_In_Total_Violent_and_Property_Crimes_FBI2019',\n",
       "       'Percent_Property_Crimes_In_Total_Violent_and_Property_Crimes_FBI2019',\n",
       "       'Total_Violent_Crimes_Rate_FBI2019',\n",
       "       'Total_Property_Crimes_Rate_FBI2019',\n",
       "       'Black_AA_Heart_Attack_Death_Rate_Per_100,000_CDC_ehTracking_2018',\n",
       "       'Black_AA_Heart_Attack_Death_Rate_Per_100,000_CDC_ehTracking_2019',\n",
       "       'Black_AA_Heart_Attack_Death_Rate_Per_100,000_CDC_ehTracking_2020',\n",
       "       ...\n",
       "       'Number_of_Recreation_Fitness_Facilities_Per1000_Residents_USDA_2016',\n",
       "       'NHPI_Percent_Difference_From_Overall_Median_Household_Income_In_the_Past_Year_ACS2017_21',\n",
       "       'NHPI_Percent_Difference_From_Overall_Median_Family_Income_In_the_Past_Year_ACS2017_21',\n",
       "       'NHPI_Percent_Difference_From_Overall_Per_Capita_Income_In_the_Past_Year_ACS2017_21',\n",
       "       'NHPI_Percent_Difference_From_Overall_Median_Nonfamily_Household_Income_In_the_Past_Year_ACS2017_21',\n",
       "       'NHPI_Median_Earnings_Percent_Difference_From_Overall_Median_Earnings_In_the_Past_Year_ACS2017_21',\n",
       "       'NHPI_Male_Percent_Difference_From_Overall_Median_Earnings_In_the_Past_Year_ACS2017_21',\n",
       "       'NHPI_Female_Percent_Difference_From_Overall_Median_Earnings_In_the_Past_Year_ACS2017_21',\n",
       "       'Latitude', 'Longitude'],\n",
       "      dtype='object', length=1147)"
      ]
     },
     "execution_count": 3,
     "metadata": {},
     "output_type": "execute_result"
    }
   ],
   "source": [
    "data.columns"
   ]
  },
  {
   "cell_type": "code",
   "execution_count": 7,
   "metadata": {},
   "outputs": [
    {
     "data": {
      "text/plain": [
       "['Black_AA_Heart_Attack_Death_Rate_Per_100,000_CDC_ehTracking_2018',\n",
       " 'Black_AA_Heart_Attack_Death_Rate_Per_100,000_CDC_ehTracking_2019',\n",
       " 'Black_AA_Heart_Attack_Death_Rate_Per_100,000_CDC_ehTracking_2020',\n",
       " 'Black_AA_Heart_Attack_Death_Rate_Per_100,000_CDC_ehTracking_2021',\n",
       " 'Asian_Heart_Attack_Death_Rate_Per_100,000_CDC_ehTracking_2018',\n",
       " 'Asian_Heart_Attack_Death_Rate_Per_100,000_CDC_ehTracking_2019',\n",
       " 'Asian_Heart_Attack_Death_Rate_Per_100,000_CDC_ehTracking_2020',\n",
       " 'Asian_Heart_Attack_Death_Rate_Per_100,000_CDC_ehTracking_2021',\n",
       " 'AIAN_Heart_Attack_Death_Rate_Per_100,000_CDC_ehTracking_2018',\n",
       " 'AIAN_Heart_Attack_Death_Rate_Per_100,000_CDC_ehTracking_2019',\n",
       " 'AIAN_Heart_Attack_Death_Rate_Per_100,000_CDC_ehTracking_2020',\n",
       " 'AIAN_Heart_Attack_Death_Rate_Per_100,000_CDC_ehTracking_2021',\n",
       " 'NHPI_Heart_Attack_Death_Rate_Per_100,000_CDC_ehTracking_2018',\n",
       " 'NHPI_Heart_Attack_Death_Rate_Per_100,000_CDC_ehTracking_2019',\n",
       " 'NHPI_Heart_Attack_Death_Rate_Per_100,000_CDC_ehTracking_2020',\n",
       " 'NHPI_Heart_Attack_Death_Rate_Per_100,000_CDC_ehTracking_2021',\n",
       " 'Black_AA_Ischemic_Heart_Disease_Death_Rate_Per_100,000_CDC_ehTracking_2018',\n",
       " 'Black_AA_Ischemic_Heart_Disease_Death_Rate_Per_100,000_CDC_ehTracking_2019',\n",
       " 'Black_AA__Ischemic_Heart_Disease_Death_Rate_Per_100,000_CDC_ehTracking_2020',\n",
       " 'Black_AA__Ischemic_Heart_Disease_Death_Rate_Per_100,000_CDC_ehTracking_2021',\n",
       " 'Asian_Ischemic_Heart_Disease_Death_Rate_Per_100,000_CDC_ehTracking_2018',\n",
       " 'Asian_Ischemic_Heart_Disease_Death_Rate_Per_100,000_CDC_ehTracking_2019',\n",
       " 'Asian_Ischemic_Heart_Disease_Death_Rate_Per_100,000_CDC_ehTracking_2020',\n",
       " 'Asian_Ischemic_Heart_Disease_Death_Rate_Per_100,000_CDC_ehTracking_2021',\n",
       " 'AIAN_Ischemic_Heart_Disease_Death_Rate_Per_100,000_CDC_ehTracking_2018',\n",
       " 'AIAN_Ischemic_Heart_Disease_Death_Rate_Per_100,000_CDC_ehTracking_2019',\n",
       " 'AIAN_Ischemic_Heart_Disease_Death_Rate_Per_100,000_CDC_ehTracking_2020',\n",
       " 'AIAN_Ischemic_Heart_Disease_Death_Rate_Per_100,000_CDC_ehTracking_2021',\n",
       " 'NHPI_Ischemic_Heart_Disease_Death_Rate_Per_100,000_CDC_ehTracking_2018',\n",
       " 'NHPI_Ischemic_Heart_Disease_Death_Rate_Per_100,000_CDC_ehTracking_2019',\n",
       " 'NHPI_Ischemic_Heart_Disease_Death_Rate_Per_100,000_CDC_ehTracking_2020',\n",
       " 'NHPI_Ischemic_Heart_Disease_Death_Rate_Per_100,000_CDC_ehTracking_2021',\n",
       " 'AIAN_Stroke_Death_Rate_Per_100,000_CDC_ehTracking_2018',\n",
       " 'AIAN_Stroke_Death_Rate_Per_100,000_CDC_ehTracking_2020',\n",
       " 'API_Stroke_Death_Rate_Per_100,000_CDC_ehTracking_2018',\n",
       " 'API_Stroke_Death_Rate_Per_100,000_CDC_ehTracking_2018.1',\n",
       " 'Black_AA_Stroke_Death_Rate_Per_100,000_CDC_ehTracking_2018',\n",
       " 'Black_AA_Stroke_Death_Rate_Per_100,000_CDC_ehTracking_2020',\n",
       " 'Total_Population_CVD_Death_Rate_Per_100,000_Residents_CDC_2016_18',\n",
       " 'Total_Population_CVD_Death_Rate_Per_100,000_Residents_CDC_2018_20',\n",
       " 'Total_Population_CVD_Death_Rate_Per_100,000_Residents_CDC_2019_21',\n",
       " 'Female_Population_CVD_Death_Rate_Per_100,000_Residents_CDC_2016_18',\n",
       " 'Female_Population_CVD_Death_Rate_Per_100,000_Residents_CDC_2018_20',\n",
       " 'Female_Population_CVD_Death_Rate_Per_100,000_Residents_CDC_2019_21',\n",
       " 'Male_Population_CVD_Death_Rate_Per_100,000_Residents_CDC_2016_18',\n",
       " 'Male_Population_CVD_Death_Rate_Per_100,000_Residents_CDC_2018_20',\n",
       " 'Male_Population_CVD_Death_Rate_Per_100,000_Residents_CDC_2019_21',\n",
       " 'Black_AA_Population_CVD_Death_Rate_Per_100,000_Residents_CDC_2016_18',\n",
       " 'Black_AA_Male_CVD_Death_Rate_Per_100,000_Residents_CDC_2016_18',\n",
       " 'Black_AA_Female_CVD_Death_Rate_Per_100,000_Residents_CDC_2016_18',\n",
       " 'AIAN_Population_CVD_Death_Rate_Per_100,000_Residents_CDC_2016_18',\n",
       " 'AIAN_Male_CVD_Death_Rate_Per_100,000_Residents_CDC_2016_18',\n",
       " 'AIAN_Female_CVD_Death_Rate_Per_100,000_Residents_CDC_2016_18',\n",
       " 'API_Population_CVD_Death_Rate_Per_100,000_Residents_CDC_2016_18',\n",
       " 'API_Male_CVD_Death_Rate_Per_100,000_Residents_CDC_2016_18',\n",
       " 'API_Female_CVD_Death_Rate_Per_100,000_Residents_CDC_2016_18',\n",
       " 'Black_AA_Population_CVD_Death_Rate_Per_100,000_Residents_CDC_2018_20',\n",
       " 'Black_AA_Male_CVD_Death_Rate_Per_100,000_Residents_CDC_2018_20',\n",
       " 'Black_AA_Female_CVD_Death_Rate_Per_100,000_Residents_CDC_2018_20',\n",
       " 'AIAN_Population_CVD_Death_Rate_Per_100,000_Residents_CDC_2018_20',\n",
       " 'AIAN_Male_CVD_Death_Rate_Per_100,000_Residents_CDC_2018_20',\n",
       " 'AIAN_Female_CVD_Death_Rate_Per_100,000_Residents_CDC_2018_20',\n",
       " 'API_Population_CVD_Death_Rate_Per_100,000_Residents_CDC_2018_20',\n",
       " 'API_Male_CVD_Death_Rate_Per_100,000_Residents_CDC_2018_20',\n",
       " 'API_Female_CVD_Death_Rate_Per_100,000_Residents_CDC_2018_20',\n",
       " 'Black_AA_Population_CVD_Death_Rate_Per_100,000_Residents_CDC_2019_21',\n",
       " 'Black_AA_Male_CVD_Death_Rate_Per_100,000_Residents_CDC_2019_21',\n",
       " 'Black_AA_Female_CVD_Death_Rate_Per_100,000_Residents_CDC_2019_21',\n",
       " 'AIAN_Population_CVD_Death_Rate_Per_100,000_Residents_CDC_2019_21',\n",
       " 'AIAN_Female_CVD_Death_Rate_Per_100,000_Residents_CDC_2019_21',\n",
       " 'AIAN_Male_CVD_Death_Rate_Per_100,000_Residents_CDC_2019_21',\n",
       " 'Asian_Population_CVD_Death_Rate_Per_100,000_Residents_CDC_2019_21',\n",
       " 'Asian_Female_CVD_Death_Rate_Per_100,000_Residents_CDC_2019_21',\n",
       " 'Asian_Male_CVD_Death_Rate_Per_100,000_Residents_CDC_2019_21',\n",
       " 'NHPI_Population_CVD_Death_Rate_Per_100,000_Residents_CDC_2019_21',\n",
       " 'NHPI_Female_CVD_Death_Rate_Per_100,000_Residents_CDC_2019_21',\n",
       " 'NHPI_Male_CVD_Death_Rate_Per_100,000_Residents_CDC_2019_21']"
      ]
     },
     "execution_count": 7,
     "metadata": {},
     "output_type": "execute_result"
    }
   ],
   "source": [
    "cvrm_keywords = [\"cardio\", \"heart\", \"respiratory\", \"lung\", \"diabete\", \"metabolic\", \"stroke\", 'cvd', 'mortality']\n",
    "cvrm_columns = [col for col in data.columns if any(keyword in col.lower() for keyword in cvrm_keywords)]\n",
    "cvrm_columns"
   ]
  },
  {
   "cell_type": "code",
   "execution_count": null,
   "metadata": {},
   "outputs": [],
   "source": []
  }
 ],
 "metadata": {
  "kernelspec": {
   "display_name": "Python 3",
   "language": "python",
   "name": "python3"
  },
  "language_info": {
   "codemirror_mode": {
    "name": "ipython",
    "version": 3
   },
   "file_extension": ".py",
   "mimetype": "text/x-python",
   "name": "python",
   "nbconvert_exporter": "python",
   "pygments_lexer": "ipython3",
   "version": "3.10.0"
  }
 },
 "nbformat": 4,
 "nbformat_minor": 2
}
