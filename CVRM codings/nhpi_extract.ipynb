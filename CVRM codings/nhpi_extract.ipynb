{
 "cells": [
  {
   "cell_type": "code",
   "execution_count": 1,
   "metadata": {},
   "outputs": [
    {
     "name": "stderr",
     "output_type": "stream",
     "text": [
      "/var/folders/dh/t016p6ms66zc3_d2crms5hlw0000gn/T/ipykernel_90939/823707655.py:10: DtypeWarning: Columns (1697,1698) have mixed types. Specify dtype option on import or set low_memory=False.\n",
      "  data = pd.read_csv('cvrm_master.csv')\n"
     ]
    }
   ],
   "source": [
    "import pandas as pd\n",
    "from cleaning_function import * \n",
    "import numpy as np\n",
    "import random\n",
    "np.random.seed(222)\n",
    "random.seed(222)\n",
    "import matplotlib.pyplot as plt\n",
    "\n",
    "\n",
    "data = pd.read_csv('cvrm_master.csv')\n",
    "data.replace([np.inf, -np.inf], np.nan, inplace=True)"
   ]
  },
  {
   "cell_type": "code",
   "execution_count": 19,
   "metadata": {},
   "outputs": [
    {
     "name": "stdout",
     "output_type": "stream",
     "text": [
      "(3143, 1703)\n"
     ]
    }
   ],
   "source": [
    "print(data.shape)"
   ]
  },
  {
   "cell_type": "code",
   "execution_count": 6,
   "metadata": {},
   "outputs": [
    {
     "name": "stdout",
     "output_type": "stream",
     "text": [
      "Features sorted by Zero_Count (lowest to highest):\n",
      "                                               Feature  NaN_Count  Zero_Count\n",
      "60   NHPI_Single_Race_Median_Earnings_In_the_Past_Y...       2719           0\n",
      "54   NHPI_Single_Race_Median_Household_Income_In_th...       2893           0\n",
      "61   NHPI_Single_Race_Median_Earnings_Percent_Diffe...       2719           0\n",
      "62   NHPI_Single_Race_Male_Median_Earnings_In_the_P...       2884           0\n",
      "63   NHPI_Single_Race_Male_Median_Earnings_Percent_...       2884           0\n",
      "..                                                 ...        ...         ...\n",
      "153  NHPI_Single_Race_Households_Have_1_Or_More_Iss...          3        3085\n",
      "184  NHPI_Single_Race_Civilian_Population_65yrs_And...          0        3092\n",
      "140  NHPI_Single_Race_Female_In_Natural_Resources_C...          0        3104\n",
      "94   NHPI_Single_Race_Population_65yrs_And_Over_In_...          0        3121\n",
      "110  NHPI_Single_Race_Female_65yrs_And_Over_In_Labo...          0        3130\n",
      "\n",
      "[211 rows x 3 columns]\n",
      "\n",
      "-----------------------------------------\n",
      "\n",
      "Features sorted by NaN_Count (lowest to highest):\n",
      "                                               Feature  NaN_Count  Zero_Count\n",
      "170  NHPI_Single_Race_Civilian_Noninstitutionalized...          0        1434\n",
      "86   NHPI_Single_Race_Female_16yrs_And_Over_In_Midd...          0        2513\n",
      "84   NHPI_Single_Race_Female_16yrs_And_Over_In_Lowe...          0        2360\n",
      "82   NHPI_Single_Race_Female_16yrs_And_Over_Without...          0        2277\n",
      "80   NHPI_Single_Race_Male_16yrs_And_Over_In_Middle...          0        2362\n",
      "..                                                 ...        ...         ...\n",
      "65   NHPI_Single_Race_Female_Median_Earnings_Percen...       2887           1\n",
      "54   NHPI_Single_Race_Median_Household_Income_In_th...       2893           0\n",
      "55   NHPI_Single_Race_Percent_Difference_From_Overa...       2893           0\n",
      "56   NHPI_Single_Race_Median_Family_Income_In_the_P...       2946           0\n",
      "57   NHPI_Single_Race_Percent_Difference_From_Overa...       2946           0\n",
      "\n",
      "[211 rows x 3 columns]\n"
     ]
    }
   ],
   "source": [
    "import pandas as pd\n",
    "import numpy as np\n",
    "\n",
    "# Get the list of columns containing 'nhpi' (case-insensitive)\n",
    "features_with_nhpi = [col for col in data.columns if 'nhpi' in col.lower()]\n",
    "\n",
    "# Create a list to collect summary information for each feature\n",
    "summary_data = []\n",
    "for col in features_with_nhpi:\n",
    "    # Count number of np.nan values in the column\n",
    "    nan_count = data[col].isna().sum()\n",
    "    \n",
    "    # Count number of zero values in the column\n",
    "    zero_count = (data[col] == 0).sum()\n",
    "    \n",
    "    # Append the summary info for the column\n",
    "    summary_data.append({\n",
    "        'Feature': col,\n",
    "        'NaN_Count': nan_count,\n",
    "        'Zero_Count': zero_count\n",
    "    })\n",
    "\n",
    "# Convert the list of dictionaries into a DataFrame for a neat table display\n",
    "summary_df = pd.DataFrame(summary_data)\n",
    "\n",
    "# Sort by Zero_Count (lowest to highest)\n",
    "sorted_by_zero = summary_df.sort_values('Zero_Count', ascending=True)\n",
    "print(\"Features sorted by Zero_Count (lowest to highest):\")\n",
    "print(sorted_by_zero)\n",
    "\n",
    "print(\"\\n-----------------------------------------\\n\")\n",
    "\n",
    "# Sort by NaN_Count (lowest to highest)\n",
    "sorted_by_nan = summary_df.sort_values('NaN_Count', ascending=True)\n",
    "print(\"Features sorted by NaN_Count (lowest to highest):\")\n",
    "print(sorted_by_nan)\n"
   ]
  },
  {
   "cell_type": "code",
   "execution_count": 9,
   "metadata": {},
   "outputs": [
    {
     "name": "stdout",
     "output_type": "stream",
     "text": [
      "NHPI Health-related features: ['NHPI_Single_Race_Female_Diabetes_Deaths_Counts_CDC2018_22_x', 'NHPI_Single_Race_Male_Diabetes_Deaths_Counts_CDC2018_22_x', 'NHPI_Single_Race_Female_Hypertension_Deaths_Counts_CDC2018_22_x', 'NHPI_Single_Race_Male_Hypertension_Deaths_Counts_CDC2018_22_x', 'NHPI_Single_Race_Male_Obesity_and_Hyperalimentation_Deaths_Counts_CDC2018_22_x', 'NHPI_Single_Race_Female_Obesity_and_Hyperalimentation_Deaths_Counts_CDC2018_22_x']\n"
     ]
    }
   ],
   "source": [
    "# A list of health indicators/risk factors to check for\n",
    "keywords = ['obesity', 'bmi', 'diabetes', 'hypertension', 'cardio']\n",
    "\n",
    "# Find columns that contain these keywords (case-insensitive)\n",
    "features_health = [col for col in features_with_nhpi if any(keyword in col.lower() for keyword in keywords)]\n",
    "print(\"NHPI Health-related features:\", features_health)\n"
   ]
  },
  {
   "cell_type": "code",
   "execution_count": 11,
   "metadata": {},
   "outputs": [
    {
     "name": "stdout",
     "output_type": "stream",
     "text": [
      "2892\n"
     ]
    }
   ],
   "source": [
    "zero_count = (data['NHPI_Single_Race_Female_Obesity_and_Hyperalimentation_Deaths_Counts_CDC2018_22_x'] == 0).sum()\n",
    "print(zero_count)"
   ]
  },
  {
   "cell_type": "code",
   "execution_count": 12,
   "metadata": {},
   "outputs": [
    {
     "name": "stdout",
     "output_type": "stream",
     "text": [
      "Potential NHPI features for CKD: ['NHPI_Single_Race_Female_Renal_Failure_Deaths_Counts_CDC2018_22_x', 'NHPI_Single_Race_Male_Renal_Failure_Deaths_Counts_CDC2018_22_x']\n",
      "Potential NHPI features for Stroke: []\n",
      "Potential NHPI features for CHD: ['NHPI_Single_Race_Heart_Attack_Death_Rate_Per_100,000_CDC_ehTracking_2018', 'NHPI_Single_Race_Heart_Attack_Death_Rate_Per_100,000_CDC_ehTracking_2019', 'NHPI_Single_Race_Heart_Attack_Death_Rate_Per_100,000_CDC_ehTracking_2020', 'NHPI_Single_Race_Heart_Attack_Death_Rate_Per_100,000_CDC_ehTracking_2021', 'NHPI_Single_Race_Ischemic_Heart_Disease_Death_Rate_Per_100,000_CDC_ehTracking_2018', 'NHPI_Single_Race_Ischemic_Heart_Disease_Death_Rate_Per_100,000_CDC_ehTracking_2019', 'NHPI_Single_Race_Ischemic_Heart_Disease_Death_Rate_Per_100,000_CDC_ehTracking_2020', 'NHPI_Single_Race_Ischemic_Heart_Disease_Death_Rate_Per_100,000_CDC_ehTracking_2021']\n"
     ]
    }
   ],
   "source": [
    "# Define keyword groups for each condition\n",
    "condition_keywords = {\n",
    "    'CKD': ['ckd', 'chronic kidney', 'renal'],\n",
    "    'Stroke': ['stroke', 'cerebrovascular'],\n",
    "    'CHD': ['heart', 'coronary', 'cardiac', 'myocardial']\n",
    "}\n",
    "\n",
    "# Filter your NHPI-specific columns first\n",
    "nhpi_columns = [col for col in data.columns if 'nhpi' in col.lower()]\n",
    "\n",
    "# Check if any NHPI-specific columns include the keywords\n",
    "for condition, keywords in condition_keywords.items():\n",
    "    potential_matches = [col for col in nhpi_columns if any(kw in col.lower() for kw in keywords)]\n",
    "    print(f\"Potential NHPI features for {condition}: {potential_matches}\")\n"
   ]
  },
  {
   "cell_type": "code",
   "execution_count": 14,
   "metadata": {},
   "outputs": [
    {
     "name": "stdout",
     "output_type": "stream",
     "text": [
      "                                             Feature  NaN_Count  Zero_Count  \\\n",
      "0  NHPI_Single_Race_Heart_Attack_Death_Rate_Per_1...        235        2899   \n",
      "1  NHPI_Single_Race_Heart_Attack_Death_Rate_Per_1...        248        2881   \n",
      "2  NHPI_Single_Race_Heart_Attack_Death_Rate_Per_1...        340        2780   \n",
      "3  NHPI_Single_Race_Heart_Attack_Death_Rate_Per_1...        321        2805   \n",
      "4  NHPI_Single_Race_Ischemic_Heart_Disease_Death_...        454        2639   \n",
      "5  NHPI_Single_Race_Ischemic_Heart_Disease_Death_...        627        2451   \n",
      "6  NHPI_Single_Race_Ischemic_Heart_Disease_Death_...        642        2443   \n",
      "7  NHPI_Single_Race_Ischemic_Heart_Disease_Death_...        572        2511   \n",
      "\n",
      "   NaN_Zero_Total  \n",
      "0            3134  \n",
      "1            3129  \n",
      "2            3120  \n",
      "3            3126  \n",
      "4            3093  \n",
      "5            3078  \n",
      "6            3085  \n",
      "7            3083  \n"
     ]
    }
   ],
   "source": [
    "import pandas as pd\n",
    "\n",
    "# Define the list of CHD columns based on your earlier output\n",
    "chd_columns = [\n",
    "    'NHPI_Single_Race_Heart_Attack_Death_Rate_Per_100,000_CDC_ehTracking_2018',\n",
    "    'NHPI_Single_Race_Heart_Attack_Death_Rate_Per_100,000_CDC_ehTracking_2019',\n",
    "    'NHPI_Single_Race_Heart_Attack_Death_Rate_Per_100,000_CDC_ehTracking_2020',\n",
    "    'NHPI_Single_Race_Heart_Attack_Death_Rate_Per_100,000_CDC_ehTracking_2021',\n",
    "    'NHPI_Single_Race_Ischemic_Heart_Disease_Death_Rate_Per_100,000_CDC_ehTracking_2018',\n",
    "    'NHPI_Single_Race_Ischemic_Heart_Disease_Death_Rate_Per_100,000_CDC_ehTracking_2019',\n",
    "    'NHPI_Single_Race_Ischemic_Heart_Disease_Death_Rate_Per_100,000_CDC_ehTracking_2020',\n",
    "    'NHPI_Single_Race_Ischemic_Heart_Disease_Death_Rate_Per_100,000_CDC_ehTracking_2021'\n",
    "]\n",
    "\n",
    "# Create a list to store the summary information\n",
    "summary_data = []\n",
    "\n",
    "# Loop through each column in chd_columns and calculate counts\n",
    "for col in chd_columns:\n",
    "    # Count NaN values in the column\n",
    "    nan_count = data[col].isna().sum()\n",
    "    \n",
    "    # Count zero values in the column\n",
    "    zero_count = (data[col] == 0).sum()\n",
    "    \n",
    "    # Calculate the total of NaN and zero counts\n",
    "    total_count = nan_count + zero_count\n",
    "    \n",
    "    # Append the results as a dictionary\n",
    "    summary_data.append({\n",
    "        'Feature': col,\n",
    "        'NaN_Count': nan_count,\n",
    "        'Zero_Count': zero_count,\n",
    "        'NaN_Zero_Total': total_count\n",
    "    })\n",
    "\n",
    "# Convert the list of dictionaries into a DataFrame for a neat table display\n",
    "summary_df = pd.DataFrame(summary_data)\n",
    "\n",
    "# Print the summary DataFrame\n",
    "print(summary_df)\n"
   ]
  },
  {
   "cell_type": "code",
   "execution_count": 18,
   "metadata": {},
   "outputs": [
    {
     "name": "stdout",
     "output_type": "stream",
     "text": [
      "                                              Feature     T\n",
      "0   NHPI_Single_Race_Heart_Attack_Death_Rate_Per_1...  3134\n",
      "1   NHPI_Single_Race_Heart_Attack_Death_Rate_Per_1...  3129\n",
      "2   NHPI_Single_Race_Heart_Attack_Death_Rate_Per_1...  3120\n",
      "3   NHPI_Single_Race_Heart_Attack_Death_Rate_Per_1...  3126\n",
      "4   NHPI_Single_Race_Ischemic_Heart_Disease_Death_...  3093\n",
      "5   NHPI_Single_Race_Ischemic_Heart_Disease_Death_...  3078\n",
      "6   NHPI_Single_Race_Ischemic_Heart_Disease_Death_...  3085\n",
      "7   NHPI_Single_Race_Ischemic_Heart_Disease_Death_...  3083\n",
      "8   NHPI_Single_Race_Female_Renal_Failure_Deaths_C...  3140\n",
      "9   NHPI_Single_Race_Male_Renal_Failure_Deaths_Cou...  3140\n",
      "10  NHPI_Single_Race_Female_CVD_Deaths_Counts_CDC2...  3118\n",
      "11  NHPI_Single_Race_Male_CVD_Deaths_Counts_CDC201...  3118\n",
      "12  NHPI_Single_Race_Female_Diabetes_Deaths_Counts...  3127\n",
      "13  NHPI_Single_Race_Male_Diabetes_Deaths_Counts_C...  3126\n",
      "14  NHPI_Single_Race_Female_Hypertension_Deaths_Co...  3134\n",
      "15  NHPI_Single_Race_Male_Hypertension_Deaths_Coun...  3133\n",
      "16  NHPI_Single_Race_Male_Obesity_and_Hyperaliment...  3142\n",
      "17  NHPI_Single_Race_Female_Obesity_and_Hyperalime...  3143\n",
      "18  NHPI_Single_Race_Civilian_Population_With_Heal...  1528\n",
      "19  NHPI_Single_Race_Civilian_Population_Without_H...  2485\n",
      "20  NHPI_Single_Race_Percent_Civilian_Population_W...  2485\n",
      "21  NHPI_Single_Race_Civilian_Noninstitutionalized...  2297\n",
      "22  NHPI_Single_Race_Civilian_Civilian_Noninstitut...  2947\n",
      "23  NHPI_Single_Race_Percent_Civilian_Population_1...  2947\n",
      "24  NHPI_Single_Race_Civilian_Population_19_64yrs_...  1770\n",
      "25  NHPI_Single_Race_Civilian_Population_19_64yrs_...  2539\n",
      "26  NHPI_Single_Race_Percent_Civilian_Population_1...  2539\n",
      "27  NHPI_Single_Race_Civilian_Population_65yrs_And...  2549\n",
      "28  NHPI_Single_Race_Civilian_Population_65yrs_And...  3092\n",
      "29  NHPI_Single_Race_Percent_Civilian_Population_6...  3092\n"
     ]
    }
   ],
   "source": [
    "# Comprehensive list of health-related keywords that might appear in the dataset.\n",
    "health_keywords = [\n",
    "    \"obesity\",\n",
    "    \"diabetes\",\n",
    "    \"hypertension\",\n",
    "    \"renal\",       \n",
    "    \"kidney\",\n",
    "    \"stroke\",\n",
    "    \"heart\",\n",
    "    \"cardiac\",\n",
    "    \"ischemic\",\n",
    "    \"chronic\",\n",
    "    \"cancer\",\n",
    "    \"copd\",\n",
    "    \"asthma\",\n",
    "    \"lung\",\n",
    "    \"smoking\",\n",
    "    \"bmi\",\n",
    "    \"hyperalimentation\",\n",
    "    \"prevalence\",\n",
    "    \"incidence\",\n",
    "    \"rate\",\n",
    "    \"counts\",\n",
    "    \"mortality\",\n",
    "    \"risk\",\n",
    "    \"failure\",\n",
    "    \"attack\",\n",
    "    \"coronary\",\n",
    "    \"myocardial\",\n",
    "    \"health\"\n",
    "]\n",
    "\n",
    "# Extract all columns that are NHPI-specific and contain at least one of the health-related keywords.\n",
    "nhpi_health_features = [\n",
    "    col for col in data.columns \n",
    "    if 'nhpi' in col.lower() and any(keyword in col.lower() for keyword in health_keywords)\n",
    "]\n",
    "\n",
    "# Create a list to store the summary information for each feature\n",
    "summary_list = []\n",
    "\n",
    "# Loop through each feature, count zeros, NaNs, and their total\n",
    "for feature in nhpi_health_features:\n",
    "    zero_count = (data[feature] == 0).sum()\n",
    "    nan_count = data[feature].isna().sum()\n",
    "    total_count = zero_count + nan_count\n",
    "    summary_list.append({\n",
    "        'Feature': feature,\n",
    "        'Zero_Count': zero_count,\n",
    "        'NaN_Count': nan_count,\n",
    "        'T': total_count\n",
    "    })\n",
    "\n",
    "# Convert the list of dictionaries into a DataFrame\n",
    "summary_df = pd.DataFrame(summary_list)\n",
    "\n",
    "# Display the summary DataFrame\n",
    "print(summary_df[['Feature', 'T']])\n",
    "\n",
    "\n"
   ]
  }
 ],
 "metadata": {
  "kernelspec": {
   "display_name": "base",
   "language": "python",
   "name": "python3"
  },
  "language_info": {
   "codemirror_mode": {
    "name": "ipython",
    "version": 3
   },
   "file_extension": ".py",
   "mimetype": "text/x-python",
   "name": "python",
   "nbconvert_exporter": "python",
   "pygments_lexer": "ipython3",
   "version": "3.11.7"
  }
 },
 "nbformat": 4,
 "nbformat_minor": 2
}
